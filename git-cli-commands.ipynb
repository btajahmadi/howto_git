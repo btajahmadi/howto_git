{
 "cells": [
  {
   "cell_type": "markdown",
   "metadata": {},
   "source": [
    "## Configurations \n",
    "\n",
    "----\n",
    "#### Show all configurations with their origins and scope:\n",
    "\n",
    "git config --show-origin --show-scope --list\n",
    "\n",
    "----\n",
    "\n",
    "#### Set user name and email address\n",
    "\n",
    "git config --global user.name 'btajahmadi'\n",
    "\n",
    "git config --global user.email 'btajahmadi@gmail.com'\n",
    "\n",
    "<span style=\"color: yellow\">Note : If you set them globally, they will be used for every repository </span>\n",
    "\n",
    "\n",
    "You can set user.name and user.email locally for every initiated repostory.\n",
    "\n",
    "In the initiated folder :\n",
    "\n",
    "git config user.name 'hasan'\n",
    "\n",
    "This setting overrides the global setting.\n",
    "\n",
    "----"
   ]
  },
  {
   "cell_type": "markdown",
   "metadata": {},
   "source": [
    "## Update git\n",
    "\n",
    "\n",
    "git update-git-for-windows"
   ]
  },
  {
   "cell_type": "markdown",
   "metadata": {},
   "source": [
    "## Git terminology\n",
    "\n",
    "<span style=\"color:yellow\">Stage</span>: Is a group of changes that make a meaningfull change to the code togethr and will be commited under a title. \n",
    "For example if you made some changes to some files in your codebase to fix a bug, you can group them as a Stage and then commit them under a title which is meaningfull in the code history.\n",
    "\n",
    "<span style=\"color:yellow\">Amend</span>: adding a change to a change after it is commited. \n",
    "\n",
    "This command is used to make human mistakes correct.\n",
    "\n",
    "<span style=\"color:yellow\">Remote</span> A repository which is far away from me as the developer.\n",
    "\n",
    "<span style=\"color:yellow\">Local</span> A repository which is close to us in our machine.\n",
    "\n",
    "<span style=\"color:yellow\">Push</span> Sending out local changes (commits that are on our local machines) to a remote repository.\n",
    "\n",
    "<span style=\"color:yellow\">Pull</span> Getting new changes on a remote repository to our machine.\n",
    "\n",
    "<span style=\"color:yellow\">Fetch</span> Is like pull, but it doesn't apply the changes to the local repository. It just bring the code down on the local machine. After you reviwed the changes, you can apply them to your local repository using pull.\n",
    "\n",
    "<span style=\"color:yellow\">Sync</span> It's a shortcut to pulling down the changes on the remote and then pushing up local changes to remote repository. Sync is a combination of consecutive commands pull and push.\n",
    "\n",
    "<span style=\"color:yellow\">Stash</span> Putting changes aside and revert to the previous state. The changes are not thorwn away and stored for later usage."
   ]
  },
  {
   "cell_type": "markdown",
   "metadata": {},
   "source": [
    "## git commands\n",
    "\n",
    "\n",
    "git add . \t\t// stages all changed or untracked files \n",
    "\n",
    "git log\t\t\t// Shows commit history\n",
    "\n",
    "git branch\t\t// Shows branch names of a repository\n",
    "\n",
    "git branch NewBranchName\t// creates new branch with the given name\n",
    "\n",
    "git checkout NewBranchName \t// Switches to the new branch\n",
    "\n",
    "git checkout -b NewBranchName  //Creates a new branch and switches to it\n",
    "\n",
    "git branch -d BranchToBeDeleted\t//Deletes a branch\n",
    "\t\t\t\t// Gives you error if you have made changes to the branch\n",
    "\t\t\t\t\n",
    "git branch -D BranchToBeDeleted // Forces to delete a branch ignoring your changes to the branch\n",
    "\n",
    "\n",
    "   "
   ]
  },
  {
   "cell_type": "markdown",
   "metadata": {},
   "source": [
    "## Scenarios\n",
    "\n",
    "### Scenario #1\n",
    "\n",
    "How to merge branches\n",
    "\n",
    "Suppose we have a main branch and made another branch for developing a tiny new feature.\n",
    "And now suppose that the new feature is ready and we want to bring the new feature\n",
    "into the main branch. The strategy is that we are not going to compromise the main\n",
    "branch. \n",
    "Hence, first we bring the main branch into the feature branch and when we are sure \n",
    "that every thing works fine, we bring back the new feature branch to the main branch.\n",
    "\n",
    "This way if there is any problems, any mess ups or any wiered problems in the code, we\n",
    "have not disruppted our main branch.\n",
    "if the main branch has been changed since the new brach is created, this process\n",
    "\\- bringing back the new feature branch to the main branch \\- is called fast forwarding. \n",
    "\n",
    "-Note : Merges should be made wisely and in small chunk of times to reduce the risk of disruption\n",
    "\n",
    "\n",
    "### Scenario #2\n",
    "\n",
    "You have created a blank repository on Github and have a local repository on your machine. How can you connect these two repositories?\n",
    "\n",
    "On your local mahine :\n",
    "\n",
    "git remote add origin https://github.com/btajahmadi/yournewblankrepositroy.git\n",
    "\n",
    "git branch -M main\t//force to rename the active branch if your local primary branch is 'master' \n",
    "\n",
    "git push -u origin main // Adds an upstream branch for active branch and push it"
   ]
  },
  {
   "cell_type": "markdown",
   "metadata": {},
   "source": [
    "### Scenario #3\n",
    "\n",
    "You want to know what the origin of your local repository.\n",
    "\n",
    "\n",
    "\n",
    "git remote                      // Shows if your local reposiotry has an origin?\n",
    "\n",
    "git remote show origin          // Shows complete information about the origin of your local repository"
   ]
  },
  {
   "cell_type": "markdown",
   "metadata": {},
   "source": [
    "Scenario #4\n",
    "\n",
    "Using forks to fixing issues.\n",
    "\n",
    "Suppose someone has made an Issue on a repository that you don't have permission to change it. To reolve the issue \n",
    "\n",
    "- Make sure that the repository owner is OK with you to work on his/her repository.\n",
    "- Fork the repository \n",
    "- Clone it on your local machine.\n",
    "- Create a branch to fix the issue on your local machine. Note that the bug-fix or new-feature branch is not supposed to be pushed into the forked repository on Github before you are sure that the bug is fixed or the new feature is complete. However, you can push it to the forked repositoruy on Github if you decide to share it with your own team. \n",
    "- When the bug fixed or new feature added, push the new branch to the forked repository on Github. See the command below.\n",
    "- Create a pull request.\n",
    "- The original reposiory owner reviews (scenario #6) your changes and decides if he/she wants to pull your changes into his/her repository.\n",
    "\n",
    "\n",
    "How to push a branch from local machine to a repository that does not have any history of the branch?\n",
    "\n",
    "git put -u origin my_branch_name_on_local_machine\n",
    "\n",
    "Note that -u stands for --set-upstream\n"
   ]
  },
  {
   "cell_type": "markdown",
   "metadata": {},
   "source": [
    "Scenario #5\n",
    "\n",
    "Create an Issue\n",
    "\n",
    "On the given github repository, under issue tab, create the issue.\n",
    "\n",
    "<span style=\"color:yellow\">Note: </span> In the issue's title, use numbering like this #1 at the end of a descriptive title. This helps Github to trace the issue and it's corresponding resolution. \n",
    "\n",
    "\n"
   ]
  },
  {
   "cell_type": "markdown",
   "metadata": {},
   "source": [
    "Scenario #6"
   ]
  }
 ],
 "metadata": {
  "kernelspec": {
   "display_name": ".NET (C#)",
   "language": "C#",
   "name": ".net-csharp"
  },
  "language_info": {
   "name": "polyglot-notebook"
  },
  "polyglot_notebook": {
   "kernelInfo": {
    "defaultKernelName": "csharp",
    "items": [
     {
      "aliases": [],
      "languageName": "csharp",
      "name": "csharp"
     }
    ]
   }
  }
 },
 "nbformat": 4,
 "nbformat_minor": 2
}
