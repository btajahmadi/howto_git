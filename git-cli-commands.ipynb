{
 "cells": [
  {
   "cell_type": "markdown",
   "metadata": {},
   "source": [
    "## Configurations \n",
    "\n",
    "----\n",
    "#### Show all configurations with their origins and scope:\n",
    "\n",
    "git config --show-origin --show-scope --list\n",
    "\n",
    "----\n",
    "\n",
    "#### Set user name and email address\n",
    "\n",
    "git config --global user.name 'btajahmadi'\n",
    "\n",
    "git config --global user.email 'btajahmadi@gmail.com'\n",
    "\n",
    "<span style=\"color: yellow\">Note : If you set them globally, they will be used for every repository </span>\n",
    "\n",
    "\n",
    "You can set user.name and user.email locally for every initiated repostory.\n",
    "\n",
    "In the initiated folder :\n",
    "\n",
    "git config user.name 'hasan'\n",
    "\n",
    "This setting overrides the global setting.\n",
    "\n",
    "----"
   ]
  },
  {
   "cell_type": "markdown",
   "metadata": {},
   "source": [
    "## Update git\n",
    "\n",
    "\n",
    "git update-git-for-windows"
   ]
  },
  {
   "cell_type": "markdown",
   "metadata": {},
   "source": [
    "## Git terminology\n",
    "\n",
    "<span style=\"color:yellow\">Stage</span>: Is a group of changes that make a meaningfull change to the code togethr and will be commited under a title. \n",
    "For example if you made some changes to some files in your codebase to fix a bug, you can group them as a Stage and then commit them under a title which is meaningfull in the code history.\n",
    "\n",
    "<span style=\"color:yellow\">Amend</span>: adding a change to a change after it is commited. \n",
    "\n",
    "This command is used to make human mistakes correct.\n",
    "\n",
    "<span style=\"color:yellow\">Remote</span> A repository which is far away from me as the developer.\n",
    "\n",
    "<span style=\"color:yellow\">Local</span> A repository which is close to us in our machine.\n",
    "\n",
    "<span style=\"color:yellow\">Push</span> Sending out local changes (commits that are on our local machines) to a remote repository.\n",
    "\n",
    "<span style=\"color:yellow\">Pull</span> Getting new changes on a remote repository to our machine.\n",
    "\n",
    "<span style=\"color:yellow\">Fetch</span> Is like pull, but it doesn't apply the changes to the local repository. It just bring the code down on the local machine. After you reviwed the changes, you can apply them to your local repository using pull.\n",
    "\n",
    "<span style=\"color:yellow\">Sync</span> It's a shortcut to pulling down the changes on the remote and then pushing up local changes to remote repository. \n",
    "\n",
    "<span style=\"color:yellow\">Stash</span> Putting changes aside and revert to the previous state. The changes are not thorwn away and stored for later usage."
   ]
  },
  {
   "cell_type": "markdown",
   "metadata": {},
   "source": [
    "## git commands\n",
    "\n",
    "\n",
    "git add . \t\t// stages all changed or untracked files \n",
    "\n",
    "git log\t\t\t// Shows commit history\n",
    "\n",
    "git branch\t\t// Shows branch names of a repository\n",
    "\n",
    "git branch NewBranchName\t// creates new branch with the given name\n",
    "\n",
    "git checkout NewBranchName \t// Switches to the new branch\n",
    "\n",
    "git checkout -b NewBranchName  //Creates a new branch and switches to it\n",
    "\n",
    "git branch -d BranchToBeDeleted\t//Deletes a branch\n",
    "\t\t\t\t// Gives you error if you have made changes to the branch\n",
    "\t\t\t\t\n",
    "git branch -D BranchToBeDeleted // Forces to delete a branch ignoring your changes to the branch\n",
    "\n",
    "How to merge branches\n",
    "\n",
    "Suppose we have a main branch and made another branch for developing a tiny new feature.\n",
    "And now suppose that the new feature is ready and we want to bring the new feature\n",
    "into the main branch. The strategy is that we are not going to compromise the main\n",
    "branch. \n",
    "Hence, first we bring the main branch into the feature branch and when we are sure \n",
    "that every thing works fine, we bring back the new feature branch to the main branch.\n",
    "\n",
    "This way if there is any problems, any mess ups or any wiered problems in the code, we\n",
    "have not disruppted our main branch.\n",
    "if the main branch has been changed since the new brach is created, this process\n",
    "\\- bringing back the new feature branch to the main branch \\- is called fast forwarding. \n",
    "\n",
    "-Note : Merges should be made wisely and in small chunk of times to reduce the risk of disruption\n",
    "   "
   ]
  }
 ],
 "metadata": {
  "kernelspec": {
   "display_name": ".NET (C#)",
   "language": "C#",
   "name": ".net-csharp"
  },
  "language_info": {
   "name": "polyglot-notebook"
  },
  "polyglot_notebook": {
   "kernelInfo": {
    "defaultKernelName": "csharp",
    "items": [
     {
      "aliases": [],
      "languageName": "csharp",
      "name": "csharp"
     }
    ]
   }
  }
 },
 "nbformat": 4,
 "nbformat_minor": 2
}
